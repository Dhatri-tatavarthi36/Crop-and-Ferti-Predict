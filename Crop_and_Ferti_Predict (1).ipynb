{
  "nbformat": 4,
  "nbformat_minor": 0,
  "metadata": {
    "colab": {
      "provenance": []
    },
    "kernelspec": {
      "name": "python3",
      "display_name": "Python 3"
    },
    "language_info": {
      "name": "python"
    }
  },
  "cells": [
    {
      "cell_type": "code",
      "execution_count": 3,
      "metadata": {
        "colab": {
          "base_uri": "https://localhost:8080/"
        },
        "id": "WGxNsaPihhqT",
        "outputId": "fa99f198-2094-4833-c20d-b3fe5a60e512"
      },
      "outputs": [
        {
          "output_type": "stream",
          "name": "stdout",
          "text": [
            "Enter Nitrogen content (N): 80\n",
            "Enter Phosphorous content (P): 45\n",
            "Enter Potassium content (K): 86\n",
            "Enter Temperature (°C): 5\n",
            "Enter pH value of soil: 5\n",
            "Enter Rainfall (mm): 45\n",
            "\n",
            "Recommended Crop: Wheat\n",
            "Suggested Fertilizer: 19:19:19 NPK\n",
            "NPK Advice: Increase Nitrogen, Increase Phosphorous, Decrease Potassium\n"
          ]
        },
        {
          "output_type": "stream",
          "name": "stderr",
          "text": [
            "/usr/local/lib/python3.11/dist-packages/sklearn/utils/validation.py:2739: UserWarning: X does not have valid feature names, but RandomForestClassifier was fitted with feature names\n",
            "  warnings.warn(\n",
            "/usr/local/lib/python3.11/dist-packages/sklearn/utils/validation.py:2739: UserWarning: X does not have valid feature names, but RandomForestClassifier was fitted with feature names\n",
            "  warnings.warn(\n"
          ]
        }
      ],
      "source": [
        "import pandas as pd\n",
        "from sklearn.ensemble import RandomForestClassifier\n",
        "from sklearn.model_selection import train_test_split\n",
        "from sklearn.preprocessing import LabelEncoder\n",
        "\n",
        "# Load dataset\n",
        "df = pd.read_csv(\"/content/Crop and fertilizer dataset.csv\")\n",
        "\n",
        "# Encode labels\n",
        "le_crop = LabelEncoder()\n",
        "le_fert = LabelEncoder()\n",
        "df['Crop'] = le_crop.fit_transform(df['Crop'])\n",
        "df['Fertilizer'] = le_fert.fit_transform(df['Fertilizer'])\n",
        "\n",
        "# ------------------ Crop Prediction ------------------\n",
        "features = ['Nitrogen', 'Potassium', 'Phosphorus', 'Temperature', 'pH', 'Rainfall']\n",
        "X_crop = df[features]\n",
        "y_crop = df['Crop']\n",
        "\n",
        "Xc_train, Xc_test, yc_train, yc_test = train_test_split(X_crop, y_crop, test_size=0.2, random_state=42)\n",
        "crop_model = RandomForestClassifier()\n",
        "crop_model.fit(Xc_train, yc_train)\n",
        "\n",
        "# ------------------ Fertilizer Prediction ------------------\n",
        "df['CropEncoded'] = df['Crop']\n",
        "X_fert = df[features + ['CropEncoded']]\n",
        "y_fert = df['Fertilizer']\n",
        "\n",
        "Xf_train, Xf_test, yf_train, yf_test = train_test_split(X_fert, y_fert, test_size=0.2, random_state=42)\n",
        "fert_model = RandomForestClassifier()\n",
        "fert_model.fit(Xf_train, yf_train)\n",
        "\n",
        "# ------------------ Ideal NPK Values (for rule-based advice) ------------------\n",
        "ideal_npk = {\n",
        "    'rice': (90, 40, 40),\n",
        "    'wheat': (120, 60, 40),\n",
        "    'maize': (140, 70, 40),\n",
        "    'sugarcane': (100, 50, 50),\n",
        "    'cotton': (80, 40, 40),\n",
        "    'banana': (200, 150, 300),\n",
        "    'groundnut': (25, 50, 75)\n",
        "    # Add more if needed\n",
        "}\n",
        "\n",
        "def analyze_npk(crop, N, P, K):\n",
        "    crop = crop.lower()\n",
        "    if crop not in ideal_npk:\n",
        "        return \"No ideal NPK data available for this crop.\"\n",
        "\n",
        "    ideal_N, ideal_P, ideal_K = ideal_npk[crop]\n",
        "    advice = []\n",
        "\n",
        "    if N < ideal_N:\n",
        "        advice.append(\"Increase Nitrogen\")\n",
        "    elif N > ideal_N:\n",
        "        advice.append(\"Decrease Nitrogen\")\n",
        "\n",
        "    if P < ideal_P:\n",
        "        advice.append(\"Increase Phosphorous\")\n",
        "    elif P > ideal_P:\n",
        "        advice.append(\"Decrease Phosphorous\")\n",
        "\n",
        "    if K < ideal_K:\n",
        "        advice.append(\"Increase Potassium\")\n",
        "    elif K > ideal_K:\n",
        "        advice.append(\"Decrease Potassium\")\n",
        "\n",
        "    return \", \".join(advice) if advice else \"NPK levels are optimal.\"\n",
        "\n",
        "# ------------------ Runtime Input ------------------\n",
        "try:\n",
        "    N = int(input(\"Enter Nitrogen content (N): \"))\n",
        "    P = int(input(\"Enter Phosphorous content (P): \"))\n",
        "    K = int(input(\"Enter Potassium content (K): \"))\n",
        "    temperature = float(input(\"Enter Temperature (°C): \"))\n",
        "    ph = float(input(\"Enter pH value of soil: \"))\n",
        "    rainfall = float(input(\"Enter Rainfall (mm): \"))\n",
        "\n",
        "    user_input = [[N, P, K, temperature, ph, rainfall]]\n",
        "\n",
        "    # 1️⃣ Predict Crop\n",
        "    crop_encoded = crop_model.predict(user_input)[0]\n",
        "    crop_name = le_crop.inverse_transform([crop_encoded])[0]\n",
        "    print(f\"\\nRecommended Crop: {crop_name}\")\n",
        "\n",
        "    # 2️⃣ Predict Fertilizer\n",
        "    fert_input = [[N, P, K, temperature, ph, rainfall, crop_encoded]]\n",
        "    fert_encoded = fert_model.predict(fert_input)[0]\n",
        "    fert_name = le_fert.inverse_transform([fert_encoded])[0]\n",
        "    print(f\"Suggested Fertilizer: {fert_name}\")\n",
        "\n",
        "    # 3️⃣ Rule-based NPK Advice\n",
        "    npk_advice = analyze_npk(crop_name, N, P, K)\n",
        "    print(f\"NPK Advice: {npk_advice}\")\n",
        "\n",
        "except Exception as e:\n",
        "    print(\" Error in input:\", e)\n"
      ]
    }
  ]
}